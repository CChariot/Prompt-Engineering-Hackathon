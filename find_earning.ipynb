{
 "cells": [
  {
   "cell_type": "code",
   "execution_count": null,
   "metadata": {},
   "outputs": [],
   "source": [
    "pip install selenium\n",
    "pip install webdriver-manager"
   ]
  },
  {
   "cell_type": "code",
   "execution_count": 20,
   "metadata": {},
   "outputs": [],
   "source": [
    "from selenium import webdriver\n",
    "from selenium.webdriver.common.by import By\n",
    "from selenium.webdriver.chrome.service import Service\n",
    "from webdriver_manager.chrome import ChromeDriverManager\n",
    "import time\n",
    "import json\n",
    "import openai\n",
    "\n",
    "driver = webdriver.Chrome(service=Service(ChromeDriverManager().install()))\n",
    "driver.get(\"https://finance.yahoo.com/topic/stock-market-news\")\n",
    "\n",
    "# Scroll to the end of the page to ensure all dynamic content is loaded\n",
    "body = driver.find_element(By.TAG_NAME, 'body')\n",
    "for _ in range(10): # We can also increase the number to have more scroll - i.e. more data\n",
    "    body.send_keys(Keys.PAGE_DOWN)\n",
    "    time.sleep(1)  # Wait for the page to load\n",
    "\n",
    "news_titles = driver.find_elements(By.CSS_SELECTOR, 'h3[class*=\"Mb(5px)\"]') \n",
    "news_descriptions = driver.find_elements(By.CSS_SELECTOR, 'p[class*=\"Fz(14px)\"]')\n",
    "articles_data = []\n",
    "\n",
    "for title, description in zip(news_titles, news_descriptions):\n",
    "    articles_data.append({\"title\": title.text, \"description\": description.text})\n",
    "\n",
    "with open('articles_data.json', 'w', encoding='utf-8') as f:\n",
    "    json.dump(articles_data, f, ensure_ascii=False, indent=4)\n",
    "\n",
    "driver.quit()\n"
   ]
  },
  {
   "cell_type": "code",
   "execution_count": null,
   "metadata": {},
   "outputs": [],
   "source": [
    "persona = \"You will response as if you are an optimistic, expert stock market analyst on Twitter. You have a deep understanding of financial markets. Respond in the manner of a catchy Tweet, with relevant hashtags, if needed. Limit your response to 280 characters maximum.\"\n",
    "scraping = \"Focus primarily on the following articles given in the following context to answer any questions: Context:\" +  article_string\n",
    "context = \"Give me a Tweet\"\n",
    "response = openai.chat.completions.create(\n",
    "        model = 'gpt-3.5-turbo',\n",
    "        messages=[\n",
    "           {\"role\": \"system\", \"content\": persona},\n",
    "           {\"role\": \"system\", \"content\": scraping},\n",
    "           {\"role\": \"user\", \"content\": context},\n",
    "        ]\n",
    "     )\n",
    "print (response.choices[0].message.content)"
   ]
  }
 ],
 "metadata": {
  "kernelspec": {
   "display_name": "Python 3",
   "language": "python",
   "name": "python3"
  },
  "language_info": {
   "codemirror_mode": {
    "name": "ipython",
    "version": 3
   },
   "file_extension": ".py",
   "mimetype": "text/x-python",
   "name": "python",
   "nbconvert_exporter": "python",
   "pygments_lexer": "ipython3",
   "version": "3.12.0"
  }
 },
 "nbformat": 4,
 "nbformat_minor": 2
}
