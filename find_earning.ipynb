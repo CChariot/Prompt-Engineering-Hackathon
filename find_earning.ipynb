{
 "cells": [
  {
   "cell_type": "markdown",
   "metadata": {},
   "source": [
    "Import required installs"
   ]
  },
  {
   "cell_type": "code",
   "execution_count": null,
   "metadata": {},
   "outputs": [],
   "source": [
    "pip install selenium\n",
    "pip install webdriver-manager"
   ]
  },
  {
   "cell_type": "markdown",
   "metadata": {},
   "source": [
    "Scrape Websites"
   ]
  },
  {
   "cell_type": "code",
   "execution_count": 20,
   "metadata": {},
   "outputs": [],
   "source": [
    "import json\n",
    "import openai\n",
    "import time\n",
    "from selenium import webdriver\n",
    "from selenium.webdriver.common.by import By\n",
    "from selenium.webdriver.common.keys import Keys\n",
    "from selenium.webdriver.support.ui import WebDriverWait\n",
    "from selenium.webdriver.support import expected_conditions as EC\n",
    "from selenium.webdriver.chrome.service import Service\n",
    "from webdriver_manager.chrome import ChromeDriverManager\n",
    "from selenium.common.exceptions import TimeoutException, NoSuchElementException\n",
    "\n",
    "def is_valid_article_link(url):\n",
    "    # Filter out non-article URLs\n",
    "    if \"beap.gemini.yahoo.com\" in url:\n",
    "        return False\n",
    "    return True\n",
    "\n",
    "driver = webdriver.Chrome(service=Service(ChromeDriverManager().install()))\n",
    "wait = WebDriverWait(driver, 10)\n",
    "main_page = \"https://finance.yahoo.com/topic/stock-market-news\"\n",
    "driver.get(main_page)\n",
    "\n",
    "# Scroll to the end of the page to ensure all dynamic content is loaded\n",
    "# body = driver.find_element(By.TAG_NAME, 'body')\n",
    "# for _ in range(3):  # Adjust the number for more/less scrolling as needed\n",
    "#     body.send_keys(Keys.PAGE_DOWN)\n",
    "#     time.sleep(1)  # Wait for the page to load\n",
    "\n",
    "articles_data = []\n",
    "\n",
    "try:\n",
    "    news_items = wait.until(EC.presence_of_all_elements_located((By.CSS_SELECTOR, 'li[class*=\"js-stream-content\"]')))\n",
    "    for item in reversed(news_items):  # Iterate from bottom to top for stability\n",
    "        data = {'title': '', 'link': '', 'content': 'Content not available.'} \n",
    "        try:\n",
    "            title_element = item.find_element(By.TAG_NAME, 'h3')\n",
    "            link = title_element.find_element(By.XPATH, './/ancestor::a').get_attribute('href')\n",
    "            \n",
    "            if not is_valid_article_link(link):\n",
    "                print(f\"Skipping non-article link: {link}\")\n",
    "                continue  # Skip non-article links\n",
    "\n",
    "            data['title'] = title_element.text\n",
    "            data['link'] = link\n",
    "\n",
    "            # Open a new tab to avoid losing the list of news_items\n",
    "            driver.execute_script(\"window.open('');\")\n",
    "            driver.switch_to.window(driver.window_handles[1])\n",
    "            driver.get(link)\n",
    "            try:\n",
    "                caas_body = wait.until(EC.presence_of_element_located((By.CSS_SELECTOR, 'div.caas-body')))\n",
    "                paragraphs = caas_body.find_elements(By.TAG_NAME, 'p')\n",
    "                article_text = ' '.join([paragraph.text for paragraph in paragraphs if paragraph.text])\n",
    "                data['content'] = article_text if article_text else \"Content not available.\"\n",
    "            except (TimeoutException, NoSuchElementException):\n",
    "                print(f\"Content not found or page timed out for: {link}\")\n",
    "            \n",
    "            articles_data.append(data)\n",
    "            \n",
    "            # Close the current tab and switch back to the main page tab\n",
    "            driver.close()\n",
    "            driver.switch_to.window(driver.window_handles[0])\n",
    "        except Exception as e:\n",
    "            print(f\"Error processing article: {e}\")\n",
    "            # Ensure to close any opened tab in case of error and switch back\n",
    "            if len(driver.window_handles) > 1:\n",
    "                driver.close()\n",
    "                driver.switch_to.window(driver.window_handles[0])\n",
    "finally:\n",
    "    driver.quit()\n",
    "    with open('articles_data.json', 'w', encoding='utf-8') as f:\n",
    "        json.dump(articles_data, f, ensure_ascii=False, indent=4)\n",
    "    print(\"Data has been saved to 'articles_data.json'\")"
   ]
  },
  {
   "cell_type": "markdown",
   "metadata": {},
   "source": [
    "Setup the prompts"
   ]
  },
  {
   "cell_type": "code",
   "execution_count": null,
   "metadata": {},
   "outputs": [],
   "source": [
    "persona = \"You will response as if you are an optimistic, expert stock market analyst on Twitter. You have a deep understanding of financial markets. Respond in the manner of a catchy, hyped up, and detailed Tweet, with relevant hashtags, if needed. Give a definitive recommendation in the response. Limit your response to 280 characters maximum, and only two hastags maximum.\"\n",
    "scraping = \"Only us the following articles given in the following context to answer any questions:\"\n",
    "context = \"Give me a Tweet\"\n",
    "AIMessages = []\n",
    "AIMessages.append({\"role\": \"system\", \"content\": persona})\n",
    "AIMessages.append({\"role\": \"system\", \"content\": scraping})\n",
    "for elem in articles_data:\n",
    "    AIMessages.append({\"role\": \"system\", \"content\": elem['content']})\n",
    "AIMessages.append({\"role\": \"user\", \"content\": context})"
   ]
  },
  {
   "cell_type": "markdown",
   "metadata": {},
   "source": [
    "Prompt the AI Influencer"
   ]
  },
  {
   "cell_type": "code",
   "execution_count": null,
   "metadata": {},
   "outputs": [],
   "source": [
    "response = openai.chat.completions.create(\n",
    "        model = 'gpt-4-1106-preview',\n",
    "        temperature = 1,\n",
    "        messages=AIMessages,\n",
    "     )\n",
    "AITweetString = response.choices[0].message.content\n",
    "print(AITweetString)"
   ]
  }
 ],
 "metadata": {
  "kernelspec": {
   "display_name": "Python 3",
   "language": "python",
   "name": "python3"
  },
  "language_info": {
   "codemirror_mode": {
    "name": "ipython",
    "version": 3
   },
   "file_extension": ".py",
   "mimetype": "text/x-python",
   "name": "python",
   "nbconvert_exporter": "python",
   "pygments_lexer": "ipython3",
   "version": "3.12.0"
  }
 },
 "nbformat": 4,
 "nbformat_minor": 2
}
