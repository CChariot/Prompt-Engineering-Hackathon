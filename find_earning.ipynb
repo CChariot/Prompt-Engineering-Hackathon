{
 "cells": [
  {
   "cell_type": "code",
   "execution_count": null,
   "metadata": {},
   "outputs": [],
   "source": []
  },
  {
   "cell_type": "code",
   "execution_count": 1,
   "metadata": {},
   "outputs": [],
   "source": [
    "import requests\n",
    "import numpy\n",
    "from bs4 import BeautifulSoup\n",
    "\n",
    "# URL of the page to scrape\n",
    "url = 'https://finance.yahoo.com/calendar/earnings?from=2024-02-18&to=2024-02-24&day=2024-02-20'\n",
    "\n",
    "# Fetch the page content\n",
    "response = requests.get(url)\n",
    "content = response.content\n",
    "\n",
    "# Parse the HTML content\n",
    "soup = BeautifulSoup(content, 'html.parser')\n",
    "\n",
    "# Find the table or list with earnings information\n",
    "earnings_table = soup.find('table', {'class': 'W(100%)'})\n",
    "\n",
    "# Extract the data\n",
    "stocks_list = []\n",
    "for row in earnings_table.find_all('tr')[1:]:  # Skipping the header row\n",
    "    cols = row.find_all('td')\n",
    "    release_time = cols[3].text.strip()  \n",
    "    if \"After Market Close\" in release_time:\n",
    "        # Append company name into list\n",
    "        stocks_list.append(cols[1].text.strip())\n",
    "\n",
    "numpy.unique(stocks_list)\n",
    "for stock in stocks_list:\n",
    "    print(stock, end=', ')\n"
   ]
  },
  {
   "cell_type": "markdown",
   "metadata": {},
   "source": []
  }
 ],
 "metadata": {
  "kernelspec": {
   "display_name": "Python 3",
   "language": "python",
   "name": "python3"
  },
  "language_info": {
   "codemirror_mode": {
    "name": "ipython",
    "version": 3
   },
   "file_extension": ".py",
   "mimetype": "text/x-python",
   "name": "python",
   "nbconvert_exporter": "python",
   "pygments_lexer": "ipython3",
   "version": "3.12.0"
  }
 },
 "nbformat": 4,
 "nbformat_minor": 2
}
